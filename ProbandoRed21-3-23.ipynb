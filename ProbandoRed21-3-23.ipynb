{
  "nbformat": 4,
  "nbformat_minor": 0,
  "metadata": {
    "colab": {
      "provenance": [],
      "authorship_tag": "ABX9TyM/wXk0Dy/7vK1rSuBx/1LM",
      "include_colab_link": true
    },
    "kernelspec": {
      "name": "python3",
      "display_name": "Python 3"
    },
    "language_info": {
      "name": "python"
    }
  },
  "cells": [
    {
      "cell_type": "markdown",
      "metadata": {
        "id": "view-in-github",
        "colab_type": "text"
      },
      "source": [
        "<a href=\"https://colab.research.google.com/github/gonza7795/API-REST-CON-SPRING-Largo/blob/main/ProbandoRed21-3-23.ipynb\" target=\"_parent\"><img src=\"https://colab.research.google.com/assets/colab-badge.svg\" alt=\"Open In Colab\"/></a>"
      ]
    },
    {
      "cell_type": "code",
      "execution_count": 1,
      "metadata": {
        "id": "ThVgPdPisK4e"
      },
      "outputs": [],
      "source": [
        "#import tensorflow as tf\n",
        "import numpy as np\n",
        "from sklearn.linear_model import LinearRegression"
      ]
    },
    {
      "cell_type": "code",
      "source": [
        "# celsius = np.array([0, 10, 20, 40, 50, 78, 64, 95, 200, 300, 400], dtype=float)\n",
        "# fahrenheit = np.array([32, 50, 68, 104, 122, 172.4, 147.2, 203, 392, 572, 752], dtype=float)\n",
        "\n",
        "\n",
        "\n",
        "# crear cinco matrices de 3x24\n",
        "\n",
        "\n",
        "\n",
        "ent_dem_1 = np.array([\t\n",
        "                     [ 132.66,\t112.4,\t115.62,\t112.2,\t108.84,\t110.52,\t112.2,\t119.04,\t136.02,\t149.64,\t153.06,\t154.74,\t153.06,\t149.64,\t147.69,\t147.69,\t154.74,\t170.04,\t163.26,\t161.52,\t159.84,\t156.42,\t147.96,\t137.76],\n",
        "                     [44.22,\t40.8,\t38.54,\t37.4,\t36.28,\t36.84,\t37.4,\t39.68,\t45.34,\t49.88,\t51.02,\t51.58,\t51.02,\t49.88,\t49.32,\t49.32,\t51.58,\t56.68,\t54.42,\t53.84,\t53.28,\t52.14,\t49.32,\t45.95],\n",
        "                     [44.22,\t40.8,\t38.54,\t37.4,\t36.28,\t36.84,\t37.4,\t39.68,\t45.34,\t49.88,\t51.02,\t51.58,\t51.02,\t49.88,\t49.32,\t49.32,\t51.58,\t56.68,\t54.42,\t53.84,\t53.28,\t52.14,\t49.32,\t45.95]             \n",
        "                       ])\n",
        "\n",
        "\n",
        "ent_dem_2 = np.array([\t\n",
        "                     [ 157.865,\t121.392,\t123.713,\t130.152,\t129.52,\t112.73,\t133.518,\t109.517,\t157.783,\t178.072,\t163.774,\t143.908,\t177.55,\t139.165,\t162.459,\t132.921,\t143.908,\t154.736,\t148.567,\t161.52,\t177.422,\t162.677,\t155.358,\t146.026],\n",
        "                     [ 42.451,\t44.064,\t44.706,\t38.522,\t40.271,\t43.471,\t38.522,\t46.029,\t52.141,\t52.873,\t51.02,\t53.127,\t51.02,\t47.386,\t45.374,\t55.238,\t61.38,\t56.113,\t60.406,\t52.225,\t60.739,\t54.226,\t52.279,\t54.221],\n",
        "                     [ 47.315,\t44.472,\t38.54,\t44.506,\t33.74,\t39.05,\t43.384,\t41.664,\t45.34,\t56.364,\t49.489,\t57.77,\t54.591,\t48.882,\t51.293,\t50.306,\t53.127,\t61.214,\t48.978,\t48.456,\t48.485,\t50.054,\t44.881,\t43.653]             \n",
        "                       ])\n",
        "\n",
        "\n",
        "\n",
        "ent_dem_3 = np.array([\n",
        "                      [ 151.232,\t133.756,\t116.776,\t133.518,\t97.956,\t99.468,\t112.2,\t129.754,\t160.504,\t160.115,\t149.999,\t174.856,\t163.774,\t154.129,\t162.459,\t177.228,\t177.951,\t166.639,\t195.912,\t190.594,\t145.454,\t164.241,\t171.634,\t146.026],\n",
        "                      [49.084,\t37.944,\t46.248,\t34.034,\t35.554,\t39.787,\t41.514,\t35.712,\t54.408,\t48.882,\t47.959,\t58.285,\t55.102,\t47.386,\t55.238,\t46.361,\t47.969,\t60.081,\t62.583,\t57.609,\t57.01,\t52.661,\t58.198,\t45.031],\n",
        "                      [43.778,\t48.552,\t38.925,\t38.896,\t43.173,\t33.893,\t38.896,\t40.077,\t41.259,\t47.386,\t52.04,\t52.096,\t51.53,\t45.89,\t55.732,\t54.252,\t55.706,\t60.648,\t51.699,\t64.07,\t47.952,\t49.012,\t58.198,\t55.14]    \n",
        "                     ])\n",
        "\n",
        "\n",
        "\n",
        "ent_dem_4 = np.array([\n",
        "                      [ 147.253,\t101.16,\t131.807,\t132.396,\t103.398,\t123.782,\t115.566,\t123.802,\t150.982,\t166.1,\t168.366,\t176.404,\t182.141,\t146.647,\t138.829,\t152.121,\t162.477,\t164.939,\t151.832,\t185.748,\t172.627,\t178.319,\t153.878,\t139.138],\n",
        "                      [ 46.873,\t48.96,\t36.228,\t44.88,\t36.28,\t33.524,\t37.774,\t44.838,\t45.34,\t46.388,\t56.122,\t56.222,\t55.612,\t47.386,\t44.881,\t50.306,\t55.706,\t64.048,\t55.508,\t50.61,\t58.075,\t50.054,\t56.225,\t47.788],\n",
        "                      [ 42.451,\t37.536,\t36.613,\t37.774,\t42.085,\t43.84,\t43.384,\t40.077,\t53.048,\t56.863,\t57.142,\t55.191,\t56.632,\t54.868,\t52.772,\t52.279,\t57.254,\t54.98,\t61.495,\t58.686,\t62.87,\t58.397,\t52.772,\t48.248]\n",
        "                     ])\n",
        "\n",
        "\n",
        "ent_dem_5 = np.array([\n",
        "                      [120.721,\t124.764,\t135.275,\t117.81,\t99.044,\t128.203,\t112.2,\t111.898,\t144.181,\t146.647,\t149.999,\t157.835,\t160.713,\t146.647,\t163.936,\t143.259,\t150.098,\t193.846,\t182.851,\t145.368,\t177.422,\t162.677,\t162.756,\t144.648],\n",
        "                      [45.547,\t43.656,\t42.394,\t33.66,\t39.545,\t33.156,\t37.026,\t37.299,\t43.526,\t54.369,\t60.204,\t59.833,\t57.142,\t49.88,\t51.786,\t54.252,\t56.222,\t66.882,\t65.304,\t61.378,\t61.805,\t62.047,\t46.361,\t45.031],\n",
        "                      [44.22,\t45.288,\t39.311,\t35.904,\t43.173,\t43.84,\t44.132,\t40.474,\t53.501,\t53.372,\t49.489,\t53.127,\t46.428,\t47.386,\t49.813,\t50.8,\t60.349,\t60.081,\t48.978,\t53.84,\t48.485,\t51.097,\t54.745,\t44.112]\n",
        "                     ])\n",
        "\n",
        "\n",
        "\n",
        "sal_gen_1 = np.array([\n",
        "                      [221.1,\t204,\t192.7,\t187,\t181.4,\t184.2,\t187,\t198.4,\t226.7,\t229.4,\t235.1,\t234.721,\t235.1,\t229.4,\t226.33,\t226.33,\t234.721,\t222.668,\t227.312,\t230.15,\t231.672,\t233.821,\t226.6,\t229.6],\n",
        "                      [0,\t0,\t0,\t0,\t0,\t0,\t0,\t0,\t0,\t20,\t20,\t23.179,\t20,\t20,\t20,\t20,\t23.179,\t0,\t0,\t24.261,\t29.728,\t26.879,\t20,\t0],\n",
        "                      [0,\t0,\t0,\t0,\t0,\t0,\t0,\t0,\t0,\t0,\t0,\t0,\t0,\t0,\t0,\t0,\t0,\t60.732,\t44.788,\t14.788,\t5,\t0,\t0,\t0]\n",
        "                     ])\n",
        "\n",
        "\n",
        "\n",
        "sal_gen_2 = np.array([\n",
        "                      [239.094,\t220.252,\t201.949,\t206.448,\t176.683,\t173.148,\t192.61,\t205.543,\t245.543,\t251.383,\t244.998,\t260,\t250.406,\t227.405,\t253.429,\t257.841,\t260,\t260,\t260,\t260,\t230.416,\t245.914,\t260,\t241.197],\n",
        "                      [0,\t0,\t0,\t0,\t0,\t0,\t0,\t0,\t0,\t0,\t0,\t25.237,\t20,\t20,\t20,\t20,\t21.626,\t27.368,\t50.194,\t52.273,\t20,\t20,\t28.03,\t0],\n",
        "                      [5,\t0,\t0,\t0,\t0,\t0,\t0,\t0,\t10.628,\t5,\t5,\t0,\t0,\t0,\t0,\t0,\t0,\t0,\t0,\t0,\t0,\t0,\t0,\t5]\n",
        "                     ])\n",
        "\n",
        "sal_gen_3 = np.array([    \n",
        "                      [242.631,\t209.928,\t206.959,\t213.18,\t203.531,\t195.251,\t215.424,\t197.21,\t235.264,\t260,\t244.283,\t234.805,\t260,\t235.433,\t254.126,\t233.465,\t253.415,\t260,\t252.951,\t257.201,\t260,\t246.957,\t247.518,\t238.9],\n",
        "                      [0,\t0,\t0,\t0,\t0,\t0,\t0,\t0,\t20,\t27.309,\t20,\t20,\t23.161,\t0,\t0,\t0,\t0,\t0,\t0,\t0,\t26.646,\t20,\t0,\t0],\n",
        "                      [ 5,\t0,\t0,\t0,\t0,\t0,\t0,\t0,\t0,\t0,\t0,\t0,\t0,\t0,\t5,\t5,\t5,\t12.063,\t5,\t5,\t0,\t0,\t5,\t5]\n",
        "                      ])          \n",
        "\n",
        "\n",
        "sal_gen_4 = np.array([ \n",
        "                      [227.656,\t187.656,\t204.648,\t215.05,\t181.763,\t201.146,\t196.724,\t208.717,\t244.37,\t249.351,\t260,\t260,\t260,\t243.901,\t231.482,\t249.706,\t255.437,\t260,\t248.835,\t260,\t260,\t260,\t257.875,\t235.174],\n",
        "                      [0,\t0,\t0,\t0,\t0,\t0,\t0,\t0,\t0,\t20,\t21.63,\t27.817,\t34.385,\t0,\t0,\t0,\t20,\t23.967,\t20,\t35.044,\t33.572,\t26.77,\t0,\t0],\n",
        "                      [8.921,\t0,\t0,\t0,\t0,\t0,\t0,\t0,\t5,\t0,\t0,\t0,\t0,\t5,\t5,\t5,\t0,\t0,\t0,\t0,\t0,\t0,\t5,\t0]\n",
        "                      ]) \n",
        "\n",
        "\n",
        "sal_gen_5 = np.array([ \n",
        "                      [ 241.16,\t201.16,\t217.751,\t195.976,\t193.373,\t228.318,\t188.318,\t227.763,\t233.955,\t258.367,\t238.365,\t249.805,\t248.059,\t243.901,\t235.496,\t260,\t260,\t260,\t260,\t242.739,\t260,\t236.007,\t254.771,\t260],\n",
        "                      [0,\t0,\t0,\t0,\t0,\t55.35,\t20,\t0,\t0,\t0,\t0,\t0,\t0,\t0,\t0,\t31.651,\t25.753,\t39.837,\t76.86,\t20,\t48.491,\t20,\t25.86,\t85.86],\n",
        "                      [13.106,\t0,\t0,\t0,\t0,\t0,\t0,\t0,\t0,\t5,\t5,\t5,\t5,\t5,\t0,\t0,\t0,\t0,\t0,\t0,\t0,\t0,\t0,\t0]\n",
        "                      ]) \n",
        "\n"
      ],
      "metadata": {
        "id": "OG39RM_LutpS"
      },
      "execution_count": 2,
      "outputs": []
    },
    {
      "cell_type": "code",
      "source": [
        "# Imprimir la matriz\n",
        "print(ent_dem_1)"
      ],
      "metadata": {
        "colab": {
          "base_uri": "https://localhost:8080/"
        },
        "id": "n5brWdUXeHoT",
        "outputId": "dbbfa540-66a8-499c-dfa8-d081914a938f"
      },
      "execution_count": 3,
      "outputs": [
        {
          "output_type": "stream",
          "name": "stdout",
          "text": [
            "[[132.66 112.4  115.62 112.2  108.84 110.52 112.2  119.04 136.02 149.64\n",
            "  153.06 154.74 153.06 149.64 147.69 147.69 154.74 170.04 163.26 161.52\n",
            "  159.84 156.42 147.96 137.76]\n",
            " [ 44.22  40.8   38.54  37.4   36.28  36.84  37.4   39.68  45.34  49.88\n",
            "   51.02  51.58  51.02  49.88  49.32  49.32  51.58  56.68  54.42  53.84\n",
            "   53.28  52.14  49.32  45.95]\n",
            " [ 44.22  40.8   38.54  37.4   36.28  36.84  37.4   39.68  45.34  49.88\n",
            "   51.02  51.58  51.02  49.88  49.32  49.32  51.58  56.68  54.42  53.84\n",
            "   53.28  52.14  49.32  45.95]]\n"
          ]
        }
      ]
    },
    {
      "cell_type": "code",
      "source": [
        "\n",
        "# Define la capa\n",
        "capa = tf.keras.layers.Dense(units=2, input_shape=(3, 24))\n",
        "#capa = tf.keras.layers.Dense(units=1, input_shape=[1])\n",
        "modelo = tf.keras.Sequential([capa])\n",
        "\n",
        "#oculta1 = tf.keras.layers.Dense(units=3, input_shape=[1])\n",
        "#oculta2 = tf.keras.layers.Dense(units=3)\n",
        "#salida = tf.keras.layers.Dense(units=1)\n",
        "#modelo = tf.keras.Sequential([oculta1, oculta2, salida])"
      ],
      "metadata": {
        "id": "Jtgtadshvngh"
      },
      "execution_count": null,
      "outputs": []
    },
    {
      "cell_type": "code",
      "source": [
        "modelo.compile(\n",
        "    optimizer=tf.keras.optimizers.Adam(0.4),\n",
        "    loss='mean_squared_error'\n",
        ")"
      ],
      "metadata": {
        "id": "KEjt8xpqv9ex"
      },
      "execution_count": null,
      "outputs": []
    },
    {
      "cell_type": "code",
      "source": [
        "# Agrupa las matrices de entrada y salida\n",
        "entradas = [ent_dem_1, ent_dem_2, ent_dem_3, ent_dem_4, ent_dem_5]\n",
        "salidas = [sal_gen_1, sal_gen_2, sal_gen_3, sal_gen_4, sal_gen_5]"
      ],
      "metadata": {
        "id": "brjjr2ZsN-v0"
      },
      "execution_count": null,
      "outputs": []
    },
    {
      "cell_type": "code",
      "source": [
        "# Define el modelo\n",
        "capa = tf.keras.layers.Dense(units=2)\n",
        "x = tf.keras.layers.concatenate(entradas)\n",
        "y = capa(x)\n",
        "modelo = tf.keras.models.Model(inputs=entradas, outputs=salidas)\n"
      ],
      "metadata": {
        "colab": {
          "base_uri": "https://localhost:8080/",
          "height": 502
        },
        "id": "Aqn98K6iN0BF",
        "outputId": "adb480a6-aba5-42ff-c99b-9dc32501e3af"
      },
      "execution_count": null,
      "outputs": [
        {
          "output_type": "error",
          "ename": "ValueError",
          "evalue": "ignored",
          "traceback": [
            "\u001b[0;31m---------------------------------------------------------------------------\u001b[0m",
            "\u001b[0;31mValueError\u001b[0m                                Traceback (most recent call last)",
            "\u001b[0;32m<ipython-input-21-42227d83d3ef>\u001b[0m in \u001b[0;36m<module>\u001b[0;34m\u001b[0m\n\u001b[1;32m      3\u001b[0m \u001b[0mx\u001b[0m \u001b[0;34m=\u001b[0m \u001b[0mtf\u001b[0m\u001b[0;34m.\u001b[0m\u001b[0mkeras\u001b[0m\u001b[0;34m.\u001b[0m\u001b[0mlayers\u001b[0m\u001b[0;34m.\u001b[0m\u001b[0mconcatenate\u001b[0m\u001b[0;34m(\u001b[0m\u001b[0mentradas\u001b[0m\u001b[0;34m)\u001b[0m\u001b[0;34m\u001b[0m\u001b[0;34m\u001b[0m\u001b[0m\n\u001b[1;32m      4\u001b[0m \u001b[0my\u001b[0m \u001b[0;34m=\u001b[0m \u001b[0mcapa\u001b[0m\u001b[0;34m(\u001b[0m\u001b[0mx\u001b[0m\u001b[0;34m)\u001b[0m\u001b[0;34m\u001b[0m\u001b[0;34m\u001b[0m\u001b[0m\n\u001b[0;32m----> 5\u001b[0;31m \u001b[0mmodelo\u001b[0m \u001b[0;34m=\u001b[0m \u001b[0mtf\u001b[0m\u001b[0;34m.\u001b[0m\u001b[0mkeras\u001b[0m\u001b[0;34m.\u001b[0m\u001b[0mmodels\u001b[0m\u001b[0;34m.\u001b[0m\u001b[0mModel\u001b[0m\u001b[0;34m(\u001b[0m\u001b[0minputs\u001b[0m\u001b[0;34m=\u001b[0m\u001b[0mentradas\u001b[0m\u001b[0;34m,\u001b[0m \u001b[0moutputs\u001b[0m\u001b[0;34m=\u001b[0m\u001b[0msalidas\u001b[0m\u001b[0;34m)\u001b[0m\u001b[0;34m\u001b[0m\u001b[0;34m\u001b[0m\u001b[0m\n\u001b[0m",
            "\u001b[0;32m/usr/local/lib/python3.9/dist-packages/tensorflow/python/trackable/base.py\u001b[0m in \u001b[0;36m_method_wrapper\u001b[0;34m(self, *args, **kwargs)\u001b[0m\n\u001b[1;32m    203\u001b[0m     \u001b[0mself\u001b[0m\u001b[0;34m.\u001b[0m\u001b[0m_self_setattr_tracking\u001b[0m \u001b[0;34m=\u001b[0m \u001b[0;32mFalse\u001b[0m  \u001b[0;31m# pylint: disable=protected-access\u001b[0m\u001b[0;34m\u001b[0m\u001b[0;34m\u001b[0m\u001b[0m\n\u001b[1;32m    204\u001b[0m     \u001b[0;32mtry\u001b[0m\u001b[0;34m:\u001b[0m\u001b[0;34m\u001b[0m\u001b[0;34m\u001b[0m\u001b[0m\n\u001b[0;32m--> 205\u001b[0;31m       \u001b[0mresult\u001b[0m \u001b[0;34m=\u001b[0m \u001b[0mmethod\u001b[0m\u001b[0;34m(\u001b[0m\u001b[0mself\u001b[0m\u001b[0;34m,\u001b[0m \u001b[0;34m*\u001b[0m\u001b[0margs\u001b[0m\u001b[0;34m,\u001b[0m \u001b[0;34m**\u001b[0m\u001b[0mkwargs\u001b[0m\u001b[0;34m)\u001b[0m\u001b[0;34m\u001b[0m\u001b[0;34m\u001b[0m\u001b[0m\n\u001b[0m\u001b[1;32m    206\u001b[0m     \u001b[0;32mfinally\u001b[0m\u001b[0;34m:\u001b[0m\u001b[0;34m\u001b[0m\u001b[0;34m\u001b[0m\u001b[0m\n\u001b[1;32m    207\u001b[0m       \u001b[0mself\u001b[0m\u001b[0;34m.\u001b[0m\u001b[0m_self_setattr_tracking\u001b[0m \u001b[0;34m=\u001b[0m \u001b[0mprevious_value\u001b[0m  \u001b[0;31m# pylint: disable=protected-access\u001b[0m\u001b[0;34m\u001b[0m\u001b[0;34m\u001b[0m\u001b[0m\n",
            "\u001b[0;32m/usr/local/lib/python3.9/dist-packages/keras/engine/functional.py\u001b[0m in \u001b[0;36m__init__\u001b[0;34m(self, inputs, outputs, name, trainable, **kwargs)\u001b[0m\n\u001b[1;32m    156\u001b[0m         \u001b[0;32mif\u001b[0m \u001b[0mtf\u001b[0m\u001b[0;34m.\u001b[0m\u001b[0mcompat\u001b[0m\u001b[0;34m.\u001b[0m\u001b[0mv1\u001b[0m\u001b[0;34m.\u001b[0m\u001b[0mexecuting_eagerly_outside_functions\u001b[0m\u001b[0;34m(\u001b[0m\u001b[0;34m)\u001b[0m\u001b[0;34m:\u001b[0m\u001b[0;34m\u001b[0m\u001b[0;34m\u001b[0m\u001b[0m\n\u001b[1;32m    157\u001b[0m             if not all(\n\u001b[0;32m--> 158\u001b[0;31m                 [\n\u001b[0m\u001b[1;32m    159\u001b[0m                     \u001b[0mfunctional_utils\u001b[0m\u001b[0;34m.\u001b[0m\u001b[0mis_input_keras_tensor\u001b[0m\u001b[0;34m(\u001b[0m\u001b[0mt\u001b[0m\u001b[0;34m)\u001b[0m\u001b[0;34m\u001b[0m\u001b[0;34m\u001b[0m\u001b[0m\n\u001b[1;32m    160\u001b[0m                     \u001b[0;32mfor\u001b[0m \u001b[0mt\u001b[0m \u001b[0;32min\u001b[0m \u001b[0mtf\u001b[0m\u001b[0;34m.\u001b[0m\u001b[0mnest\u001b[0m\u001b[0;34m.\u001b[0m\u001b[0mflatten\u001b[0m\u001b[0;34m(\u001b[0m\u001b[0minputs\u001b[0m\u001b[0;34m)\u001b[0m\u001b[0;34m\u001b[0m\u001b[0;34m\u001b[0m\u001b[0m\n",
            "\u001b[0;32m/usr/local/lib/python3.9/dist-packages/keras/engine/functional.py\u001b[0m in \u001b[0;36m<listcomp>\u001b[0;34m(.0)\u001b[0m\n\u001b[1;32m    157\u001b[0m             if not all(\n\u001b[1;32m    158\u001b[0m                 [\n\u001b[0;32m--> 159\u001b[0;31m                     \u001b[0mfunctional_utils\u001b[0m\u001b[0;34m.\u001b[0m\u001b[0mis_input_keras_tensor\u001b[0m\u001b[0;34m(\u001b[0m\u001b[0mt\u001b[0m\u001b[0;34m)\u001b[0m\u001b[0;34m\u001b[0m\u001b[0;34m\u001b[0m\u001b[0m\n\u001b[0m\u001b[1;32m    160\u001b[0m                     \u001b[0;32mfor\u001b[0m \u001b[0mt\u001b[0m \u001b[0;32min\u001b[0m \u001b[0mtf\u001b[0m\u001b[0;34m.\u001b[0m\u001b[0mnest\u001b[0m\u001b[0;34m.\u001b[0m\u001b[0mflatten\u001b[0m\u001b[0;34m(\u001b[0m\u001b[0minputs\u001b[0m\u001b[0;34m)\u001b[0m\u001b[0;34m\u001b[0m\u001b[0;34m\u001b[0m\u001b[0m\n\u001b[1;32m    161\u001b[0m                 ]\n",
            "\u001b[0;32m/usr/local/lib/python3.9/dist-packages/keras/engine/functional_utils.py\u001b[0m in \u001b[0;36mis_input_keras_tensor\u001b[0;34m(tensor)\u001b[0m\n\u001b[1;32m     46\u001b[0m     \"\"\"\n\u001b[1;32m     47\u001b[0m     \u001b[0;32mif\u001b[0m \u001b[0;32mnot\u001b[0m \u001b[0mnode_module\u001b[0m\u001b[0;34m.\u001b[0m\u001b[0mis_keras_tensor\u001b[0m\u001b[0;34m(\u001b[0m\u001b[0mtensor\u001b[0m\u001b[0;34m)\u001b[0m\u001b[0;34m:\u001b[0m\u001b[0;34m\u001b[0m\u001b[0;34m\u001b[0m\u001b[0m\n\u001b[0;32m---> 48\u001b[0;31m         \u001b[0;32mraise\u001b[0m \u001b[0mValueError\u001b[0m\u001b[0;34m(\u001b[0m\u001b[0m_KERAS_TENSOR_TYPE_CHECK_ERROR_MSG\u001b[0m\u001b[0;34m.\u001b[0m\u001b[0mformat\u001b[0m\u001b[0;34m(\u001b[0m\u001b[0mtensor\u001b[0m\u001b[0;34m)\u001b[0m\u001b[0;34m)\u001b[0m\u001b[0;34m\u001b[0m\u001b[0;34m\u001b[0m\u001b[0m\n\u001b[0m\u001b[1;32m     49\u001b[0m     \u001b[0;32mreturn\u001b[0m \u001b[0mtensor\u001b[0m\u001b[0;34m.\u001b[0m\u001b[0mnode\u001b[0m\u001b[0;34m.\u001b[0m\u001b[0mis_input\u001b[0m\u001b[0;34m\u001b[0m\u001b[0;34m\u001b[0m\u001b[0m\n\u001b[1;32m     50\u001b[0m \u001b[0;34m\u001b[0m\u001b[0m\n",
            "\u001b[0;31mValueError\u001b[0m: Found unexpected instance while processing input tensors for keras functional model. Expecting KerasTensor which is from tf.keras.Input() or output from keras layer call(). Got: [[132.66 112.4  115.62 112.2  108.84 110.52 112.2  119.04 136.02 149.64\n  153.06 154.74 153.06 149.64 147.69 147.69 154.74 170.04 163.26 161.52\n  159.84 156.42 147.96 137.76]\n [ 44.22  40.8   38.54  37.4   36.28  36.84  37.4   39.68  45.34  49.88\n   51.02  51.58  51.02  49.88  49.32  49.32  51.58  56.68  54.42  53.84\n   53.28  52.14  49.32  45.95]\n [ 44.22  40.8   38.54  37.4   36.28  36.84  37.4   39.68  45.34  49.88\n   51.02  51.58  51.02  49.88  49.32  49.32  51.58  56.68  54.42  53.84\n   53.28  52.14  49.32  45.95]]"
          ]
        }
      ]
    },
    {
      "cell_type": "code",
      "source": [
        "# Agrupa las matrices de entrada y salida\n",
        "entradas = [ent_dem_1, ent_dem_2, ent_dem_3, ent_dem_4, ent_dem_5]\n",
        "salidas = [sal_gen_1, sal_gen_2, sal_gen_3, sal_gen_4, sal_gen_5]\n",
        "\n",
        "print(\"Comenzando entrenamiento...\")\n",
        "historial = modelo.fit(entradas, salidas, epochs=2000, verbose=False)\n",
        "print(\"Modelo entrenado!\")"
      ],
      "metadata": {
        "colab": {
          "base_uri": "https://localhost:8080/",
          "height": 658
        },
        "id": "Lm8m9kYgwKCS",
        "outputId": "d5c5900a-527f-4a0e-b64c-02d175319653"
      },
      "execution_count": null,
      "outputs": [
        {
          "output_type": "stream",
          "name": "stdout",
          "text": [
            "Comenzando entrenamiento...\n"
          ]
        },
        {
          "output_type": "error",
          "ename": "ValueError",
          "evalue": "ignored",
          "traceback": [
            "\u001b[0;31m---------------------------------------------------------------------------\u001b[0m",
            "\u001b[0;31mValueError\u001b[0m                                Traceback (most recent call last)",
            "\u001b[0;32m<ipython-input-19-9e9aa6c03408>\u001b[0m in \u001b[0;36m<module>\u001b[0;34m\u001b[0m\n\u001b[1;32m      4\u001b[0m \u001b[0;34m\u001b[0m\u001b[0m\n\u001b[1;32m      5\u001b[0m \u001b[0mprint\u001b[0m\u001b[0;34m(\u001b[0m\u001b[0;34m\"Comenzando entrenamiento...\"\u001b[0m\u001b[0;34m)\u001b[0m\u001b[0;34m\u001b[0m\u001b[0;34m\u001b[0m\u001b[0m\n\u001b[0;32m----> 6\u001b[0;31m \u001b[0mhistorial\u001b[0m \u001b[0;34m=\u001b[0m \u001b[0mmodelo\u001b[0m\u001b[0;34m.\u001b[0m\u001b[0mfit\u001b[0m\u001b[0;34m(\u001b[0m\u001b[0mentradas\u001b[0m\u001b[0;34m,\u001b[0m \u001b[0msalidas\u001b[0m\u001b[0;34m,\u001b[0m \u001b[0mepochs\u001b[0m\u001b[0;34m=\u001b[0m\u001b[0;36m2000\u001b[0m\u001b[0;34m,\u001b[0m \u001b[0mverbose\u001b[0m\u001b[0;34m=\u001b[0m\u001b[0;32mFalse\u001b[0m\u001b[0;34m)\u001b[0m\u001b[0;34m\u001b[0m\u001b[0;34m\u001b[0m\u001b[0m\n\u001b[0m\u001b[1;32m      7\u001b[0m \u001b[0mprint\u001b[0m\u001b[0;34m(\u001b[0m\u001b[0;34m\"Modelo entrenado!\"\u001b[0m\u001b[0;34m)\u001b[0m\u001b[0;34m\u001b[0m\u001b[0;34m\u001b[0m\u001b[0m\n",
            "\u001b[0;32m/usr/local/lib/python3.9/dist-packages/keras/utils/traceback_utils.py\u001b[0m in \u001b[0;36merror_handler\u001b[0;34m(*args, **kwargs)\u001b[0m\n\u001b[1;32m     68\u001b[0m             \u001b[0;31m# To get the full stack trace, call:\u001b[0m\u001b[0;34m\u001b[0m\u001b[0;34m\u001b[0m\u001b[0m\n\u001b[1;32m     69\u001b[0m             \u001b[0;31m# `tf.debugging.disable_traceback_filtering()`\u001b[0m\u001b[0;34m\u001b[0m\u001b[0;34m\u001b[0m\u001b[0m\n\u001b[0;32m---> 70\u001b[0;31m             \u001b[0;32mraise\u001b[0m \u001b[0me\u001b[0m\u001b[0;34m.\u001b[0m\u001b[0mwith_traceback\u001b[0m\u001b[0;34m(\u001b[0m\u001b[0mfiltered_tb\u001b[0m\u001b[0;34m)\u001b[0m \u001b[0;32mfrom\u001b[0m \u001b[0;32mNone\u001b[0m\u001b[0;34m\u001b[0m\u001b[0;34m\u001b[0m\u001b[0m\n\u001b[0m\u001b[1;32m     71\u001b[0m         \u001b[0;32mfinally\u001b[0m\u001b[0;34m:\u001b[0m\u001b[0;34m\u001b[0m\u001b[0;34m\u001b[0m\u001b[0m\n\u001b[1;32m     72\u001b[0m             \u001b[0;32mdel\u001b[0m \u001b[0mfiltered_tb\u001b[0m\u001b[0;34m\u001b[0m\u001b[0;34m\u001b[0m\u001b[0m\n",
            "\u001b[0;32m/usr/local/lib/python3.9/dist-packages/keras/engine/training.py\u001b[0m in \u001b[0;36mtf__train_function\u001b[0;34m(iterator)\u001b[0m\n\u001b[1;32m     13\u001b[0m                 \u001b[0;32mtry\u001b[0m\u001b[0;34m:\u001b[0m\u001b[0;34m\u001b[0m\u001b[0;34m\u001b[0m\u001b[0m\n\u001b[1;32m     14\u001b[0m                     \u001b[0mdo_return\u001b[0m \u001b[0;34m=\u001b[0m \u001b[0;32mTrue\u001b[0m\u001b[0;34m\u001b[0m\u001b[0;34m\u001b[0m\u001b[0m\n\u001b[0;32m---> 15\u001b[0;31m                     \u001b[0mretval_\u001b[0m \u001b[0;34m=\u001b[0m \u001b[0mag__\u001b[0m\u001b[0;34m.\u001b[0m\u001b[0mconverted_call\u001b[0m\u001b[0;34m(\u001b[0m\u001b[0mag__\u001b[0m\u001b[0;34m.\u001b[0m\u001b[0mld\u001b[0m\u001b[0;34m(\u001b[0m\u001b[0mstep_function\u001b[0m\u001b[0;34m)\u001b[0m\u001b[0;34m,\u001b[0m \u001b[0;34m(\u001b[0m\u001b[0mag__\u001b[0m\u001b[0;34m.\u001b[0m\u001b[0mld\u001b[0m\u001b[0;34m(\u001b[0m\u001b[0mself\u001b[0m\u001b[0;34m)\u001b[0m\u001b[0;34m,\u001b[0m \u001b[0mag__\u001b[0m\u001b[0;34m.\u001b[0m\u001b[0mld\u001b[0m\u001b[0;34m(\u001b[0m\u001b[0miterator\u001b[0m\u001b[0;34m)\u001b[0m\u001b[0;34m)\u001b[0m\u001b[0;34m,\u001b[0m \u001b[0;32mNone\u001b[0m\u001b[0;34m,\u001b[0m \u001b[0mfscope\u001b[0m\u001b[0;34m)\u001b[0m\u001b[0;34m\u001b[0m\u001b[0;34m\u001b[0m\u001b[0m\n\u001b[0m\u001b[1;32m     16\u001b[0m                 \u001b[0;32mexcept\u001b[0m\u001b[0;34m:\u001b[0m\u001b[0;34m\u001b[0m\u001b[0;34m\u001b[0m\u001b[0m\n\u001b[1;32m     17\u001b[0m                     \u001b[0mdo_return\u001b[0m \u001b[0;34m=\u001b[0m \u001b[0;32mFalse\u001b[0m\u001b[0;34m\u001b[0m\u001b[0;34m\u001b[0m\u001b[0m\n",
            "\u001b[0;31mValueError\u001b[0m: in user code:\n\n    File \"/usr/local/lib/python3.9/dist-packages/keras/engine/training.py\", line 1249, in train_function  *\n        return step_function(self, iterator)\n    File \"/usr/local/lib/python3.9/dist-packages/keras/engine/training.py\", line 1233, in step_function  **\n        outputs = model.distribute_strategy.run(run_step, args=(data,))\n    File \"/usr/local/lib/python3.9/dist-packages/keras/engine/training.py\", line 1222, in run_step  **\n        outputs = model.train_step(data)\n    File \"/usr/local/lib/python3.9/dist-packages/keras/engine/training.py\", line 1023, in train_step\n        y_pred = self(x, training=True)\n    File \"/usr/local/lib/python3.9/dist-packages/keras/utils/traceback_utils.py\", line 70, in error_handler\n        raise e.with_traceback(filtered_tb) from None\n    File \"/usr/local/lib/python3.9/dist-packages/keras/engine/input_spec.py\", line 216, in assert_input_compatibility\n        raise ValueError(\n\n    ValueError: Layer \"sequential_1\" expects 1 input(s), but it received 5 input tensors. Inputs received: [<tf.Tensor 'IteratorGetNext:0' shape=(None, 24) dtype=float32>, <tf.Tensor 'IteratorGetNext:1' shape=(None, 24) dtype=float32>, <tf.Tensor 'IteratorGetNext:2' shape=(None, 24) dtype=float32>, <tf.Tensor 'IteratorGetNext:3' shape=(None, 24) dtype=float32>, <tf.Tensor 'IteratorGetNext:4' shape=(None, 24) dtype=float32>]\n"
          ]
        }
      ]
    },
    {
      "cell_type": "code",
      "source": [
        "import matplotlib.pyplot as plt\n",
        "plt.xlabel(\"# Epoca\")\n",
        "plt.ylabel(\"Magnitud de pérdida\")\n",
        "plt.plot(historial.history[\"loss\"])"
      ],
      "metadata": {
        "colab": {
          "base_uri": "https://localhost:8080/",
          "height": 296
        },
        "id": "P9okGgUIwflR",
        "outputId": "a56f4fdb-f524-418d-8176-136800e63183"
      },
      "execution_count": null,
      "outputs": [
        {
          "output_type": "execute_result",
          "data": {
            "text/plain": [
              "[<matplotlib.lines.Line2D at 0x7f525c3869d0>]"
            ]
          },
          "metadata": {},
          "execution_count": 44
        },
        {
          "output_type": "display_data",
          "data": {
            "text/plain": [
              "<Figure size 432x288 with 1 Axes>"
            ],
            "image/png": "[encoded data removed]"
          },
          "metadata": {
            "needs_background": "light"
          }
        }
      ]
    },
    {
      "cell_type": "code",
      "source": [
        "print(\"Hagamos una predicción!\")\n",
        "resultado = modelo.predict([100.0])\n",
        "print(\"El resultado es \" + str(resultado) + \" fahrenheit!\")"
      ],
      "metadata": {
        "colab": {
          "base_uri": "https://localhost:8080/"
        },
        "id": "gL0GRoe-wrsZ",
        "outputId": "c1c42c8a-4fe1-4d1e-d618-a34e1148966f"
      },
      "execution_count": null,
      "outputs": [
        {
          "output_type": "stream",
          "name": "stdout",
          "text": [
            "Hagamos una predicción!\n",
            "1/1 [==============================] - 0s 62ms/step\n",
            "El resultado es [[212.]] fahrenheit!\n"
          ]
        }
      ]
    },
    {
      "cell_type": "code",
      "source": [
        "print(\"Variables internas del modelo\")\n",
        "print(capa.get_weights())"
      ],
      "metadata": {
        "colab": {
          "base_uri": "https://localhost:8080/"
        },
        "id": "aAahJrl7xkBz",
        "outputId": "23489620-719e-4120-afb3-449a2bfea1be"
      },
      "execution_count": null,
      "outputs": [
        {
          "output_type": "stream",
          "name": "stdout",
          "text": [
            "Variables internas del modelo\n",
            "[array([[1.8000002]], dtype=float32), array([31.999979], dtype=float32)]\n"
          ]
        }
      ]
    }
  ]
}